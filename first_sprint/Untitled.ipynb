{
 "cells": [
  {
   "cell_type": "code",
   "execution_count": 1,
   "id": "975904e4-ddd7-4d6e-8220-f584265ef7ac",
   "metadata": {},
   "outputs": [
    {
     "name": "stdout",
     "output_type": "stream",
     "text": [
      "Hellow CodeSpase\n"
     ]
    }
   ],
   "source": [
    "print('Hellow CodeSpase')"
   ]
  },
  {
   "cell_type": "code",
   "execution_count": null,
   "id": "68d23e3e-61ba-4c72-a499-cbb18904a68e",
   "metadata": {},
   "outputs": [],
   "source": []
  }
 ],
 "metadata": {
  "kernelspec": {
   "display_name": "Python 3 (ipykernel)",
   "language": "python",
   "name": "python3"
  },
  "language_info": {
   "codemirror_mode": {
    "name": "ipython",
    "version": 3
   },
   "file_extension": ".py",
   "mimetype": "text/x-python",
   "name": "python",
   "nbconvert_exporter": "python",
   "pygments_lexer": "ipython3",
   "version": "3.12.1"
  }
 },
 "nbformat": 4,
 "nbformat_minor": 5
}
